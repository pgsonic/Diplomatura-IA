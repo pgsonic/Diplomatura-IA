{
  "nbformat": 4,
  "nbformat_minor": 0,
  "metadata": {
    "colab": {
      "provenance": [],
      "toc_visible": true,
      "authorship_tag": "ABX9TyP3mztGGYrFZcSqc1MBeeOy",
      "include_colab_link": true
    },
    "kernelspec": {
      "name": "python3",
      "display_name": "Python 3"
    },
    "language_info": {
      "name": "python"
    }
  },
  "cells": [
    {
      "cell_type": "markdown",
      "metadata": {
        "id": "view-in-github",
        "colab_type": "text"
      },
      "source": [
        "<a href=\"https://colab.research.google.com/github/pgsonic/Diplomatura_IA/blob/main/Clase_02.ipynb\" target=\"_parent\"><img src=\"https://colab.research.google.com/assets/colab-badge.svg\" alt=\"Open In Colab\"/></a>"
      ]
    },
    {
      "cell_type": "markdown",
      "source": [
        "# CLASE 02 31/3/2025"
      ],
      "metadata": {
        "id": "tWrrh2cKJR_J"
      }
    },
    {
      "cell_type": "markdown",
      "source": [
        "# Ejercicio 1: Operadores logicos"
      ],
      "metadata": {
        "id": "2b5iG0gxZ5ek"
      }
    },
    {
      "cell_type": "code",
      "execution_count": null,
      "metadata": {
        "colab": {
          "base_uri": "https://localhost:8080/"
        },
        "id": "RMAb9tUAJCez",
        "outputId": "eff7b3ab-55a3-4365-bf27-9ce5d2836da1"
      },
      "outputs": [
        {
          "output_type": "stream",
          "name": "stdout",
          "text": [
            "Resultado 1:  True\n",
            "Resultado 2:  True\n",
            "Resultado 3:  True\n",
            "Resultado 4:  True\n",
            "Resultado 5:  True\n",
            "Resultado 6:  False\n",
            "Resultado 7:  False\n"
          ]
        }
      ],
      "source": [
        "\"\"\"\n",
        "Programa que muestra el uso de operadores logicos\n",
        "\"\"\"\n",
        "\n",
        "universisdad = \"Untref\"\n",
        "carrera = \"I.A.\"\n",
        "\n",
        "# Calculo diferentes valores de logica proposicional y muestro los valores\n",
        "# de verdad de los mismos\n",
        "resultado1 = (universisdad == \"Untref\") and (carrera == \"I.A.\")\n",
        "print(\"Resultado 1: \",resultado1)\n",
        "\n",
        "resultado2 = (universisdad == \"Untref\") or (carrera == \"Ciencias\")\n",
        "print(\"Resultado 2: \", resultado2)\n",
        "\n",
        "resultado3 = not (universisdad == \"UBA\")\n",
        "print(\"Resultado 3: \", resultado3)\n",
        "\n",
        "resultado4 = (universisdad == \"Untref\") and not (carrera == \"Ciencias\")\n",
        "print(\"Resultado 4: \", resultado4)\n",
        "\n",
        "resultado5 = (universisdad != \"Untref\") or (carrera == \"I.A.\")\n",
        "print(\"Resultado 5: \", resultado5)\n",
        "\n",
        "resultado6 = (universisdad == \"UNTREF\") or (carrera != \"I.A.\")\n",
        "print(\"Resultado 6: \", resultado6)\n",
        "\n",
        "resultado7 = not ((universisdad == \"Untref\") and (carrera == \"I.A.\"))\n",
        "print(\"Resultado 7: \", resultado7)"
      ]
    },
    {
      "cell_type": "markdown",
      "source": [
        "# Ejercicio 2: Condicionales"
      ],
      "metadata": {
        "id": "EOYmSMORkfZM"
      }
    },
    {
      "cell_type": "code",
      "source": [
        "\"\"\"\n",
        "  Programa que solicita las temperaturas promedio de cuatro meses, calcula el\n",
        "promedio y determina el clima correspondiente.\n",
        "  Finalmente muestra el resultado.\n",
        "\"\"\"\n",
        "\n",
        "import emoji  # Importo la libreria emoji\n",
        "\n",
        "# Inicializo las variables que almacentaran las temperaturas promedio\n",
        "v1 = 0\n",
        "v2 = 0\n",
        "v3 = 0\n",
        "v4 = 0\n",
        "\n",
        "# Solicito al usuario que ingrese los valores de las temperaturas promedio de\n",
        "# cada mes, le quito los espacios sobrantes si los hubiera y los transformo a\n",
        "# valores de tipo float\n",
        "v1 = float(input(\n",
        "    \"Ingrese la temperatura minima promedio del mes de diciembre: \").strip())\n",
        "v2 = float(input(\n",
        "    \"Ingrese la temperatura minima promedio del mes de enero: \").strip())\n",
        "v3 = float(input(\n",
        "    \"Ingrese la temperatura minima promedio del mes de febrero: \").strip())\n",
        "v4 = float(input(\n",
        "    \"Ingrese la temperatura minima promedio del mes de  marzo: \").strip())\n",
        "\n",
        "# Calculo el promedio de las temperaturas ingresadas\n",
        "resultado = (v1 + v2 + v3 + v4)/4\n",
        "\n",
        "# Determino el tipo de clima en funcion del rango de temperaturas\n",
        "if resultado < 10:\n",
        "  clima = \"frio \" + emoji.emojize(\":cold_face:\")\n",
        "elif resultado >= 10 and resultado <= 15:\n",
        "  clima = \"templado \" + emoji.emojize(\":sun_with_face:\")\n",
        "elif resultado >= 16 and resultado <= 22:\n",
        "  clima = \"caluroso \" + emoji.emojize(\":hot_face:\")\n",
        "else:\n",
        "  clima = \"apocaliptico \" + emoji.emojize(\":confounded_face:\")\n",
        "\n",
        "# Muestro al usuario el tipo de clima resultante y la temperatur promedio de los\n",
        "# meses en cuestion\n",
        "print(\"\\n\")\n",
        "print(f\"Esta {clima}, la temperatura promedio es de {resultado}ºC.\")\n",
        "\n"
      ],
      "metadata": {
        "colab": {
          "base_uri": "https://localhost:8080/"
        },
        "id": "lGH_iF0NkyFe",
        "outputId": "c22ae22b-936b-484c-953d-bf8037cd3bbc"
      },
      "execution_count": null,
      "outputs": [
        {
          "output_type": "stream",
          "name": "stdout",
          "text": [
            "Ingrese la temperatura minima promedio del mes de diciembre: 28\n",
            "Ingrese la temperatura minima promedio del mes de enero: 30\n",
            "Ingrese la temperatura minima promedio del mes de febrero: 25\n",
            "Ingrese la temperatura minima promedio del mes de  marzo: 20\n",
            "\n",
            "\n",
            "Esta apocaliptico 😖, la temperatura promedio es de 25.75ºC.\n"
          ]
        }
      ]
    },
    {
      "cell_type": "markdown",
      "source": [
        "# Ejercicio 3: Funciones"
      ],
      "metadata": {
        "id": "jxqZ4cpMzJLs"
      }
    },
    {
      "cell_type": "code",
      "source": [],
      "metadata": {
        "id": "ETrJVv9u5dxW"
      },
      "execution_count": null,
      "outputs": []
    }
  ]
}