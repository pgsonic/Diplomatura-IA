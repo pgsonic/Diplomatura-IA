{
  "cells": [
    {
      "cell_type": "markdown",
      "metadata": {
        "colab_type": "text",
        "id": "view-in-github"
      },
      "source": [
        "<a href=\"https://colab.research.google.com/github/pgsonic/Diplomatura_IA/blob/main/IntroPy.ipynb\" target=\"_parent\"><img src=\"https://colab.research.google.com/assets/colab-badge.svg\" alt=\"Open In Colab\"/></a>"
      ]
    },
    {
      "cell_type": "markdown",
      "metadata": {
        "id": "f97oA_tLw-tw"
      },
      "source": [
        "# Clase 01 2025-03-26"
      ]
    },
    {
      "cell_type": "code",
      "execution_count": null,
      "metadata": {
        "colab": {
          "base_uri": "https://localhost:8080/"
        },
        "id": "dI71ZqiwMxHL",
        "outputId": "4412ca4b-c73e-4bc6-d496-7eeead2c674c"
      },
      "outputs": [
        {
          "name": "stdout",
          "output_type": "stream",
          "text": [
            "Ingrese un numero: 122\n",
            "Ingrese otro numero: 12\n",
            "Resultado: 122.0/12.0 =  10.166666666666666\n",
            "Ingrese un numero con hasta 2 decimales2.556\n",
            "El numero ingresado es : 2.556\n",
            "Resultado: 2.556/12.0 = 0.21\n",
            "Resultado: 2.556-122.0 = -119.44\n"
          ]
        }
      ],
      "source": [
        "# from google.colab import userdata # type: ignore\n",
        "# userdata.get('secretName')\n",
        "\n",
        "#Inicializar las tres variables\n",
        "numero_a = 0\n",
        "numero_b = 0\n",
        "numero_c = 0\n",
        "\n",
        "#Pedir al usuario los primeros dos numeros\n",
        "numero_a = float(input(\"Ingrese un numero: \"))\n",
        "numero_b = float(input(\"Ingrese otro numero: \"))\n",
        "\n",
        "#imprimir la division de los primeros dos numeros\n",
        "print(f\"Resultado: {numero_a}/{numero_b} = \", numero_a/numero_b)\n",
        "\n",
        "#pido ingresar un numero con dos decimales\n",
        "numero_c = float(input(\"Ingrese un numero con hasta 2 decimales\"))\n",
        "#muestro el numero ingresado\n",
        "print(\"El numero ingresado es :\", numero_c)\n",
        "\n",
        "#calculo en resultado la division del tercer y el segundo numero\n",
        "resultado = numero_c / numero_b\n",
        "#imprimo lo calculado\n",
        "print(f\"Resultado: {numero_c}/{numero_b} = {resultado:.2f}\")\n",
        "#calculo la resta del tercer y el primer numero\n",
        "resultado = numero_c - numero_a\n",
        "#muestro el resultado\n",
        "print(f\"Resultado: {numero_c}-{numero_a} = {resultado:.2f}\")"
      ]
    }
  ],
  "metadata": {
    "colab": {
      "include_colab_link": true,
      "provenance": [],
      "toc_visible": true
    },
    "kernelspec": {
      "display_name": "Python 3",
      "name": "python3"
    },
    "language_info": {
      "name": "python",
      "version": "3.8.10"
    }
  },
  "nbformat": 4,
  "nbformat_minor": 0
}
